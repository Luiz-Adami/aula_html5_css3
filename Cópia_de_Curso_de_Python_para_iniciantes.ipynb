{
  "nbformat": 4,
  "nbformat_minor": 0,
  "metadata": {
    "colab": {
      "name": "Cópia de Curso de Python para iniciantes.ipynb",
      "provenance": [],
      "collapsed_sections": [],
      "authorship_tag": "ABX9TyPGDgUuiQFE5yTP+izLcdw4",
      "include_colab_link": true
    },
    "kernelspec": {
      "name": "python3",
      "display_name": "Python 3"
    },
    "language_info": {
      "name": "python"
    }
  },
  "cells": [
    {
      "cell_type": "markdown",
      "metadata": {
        "id": "view-in-github",
        "colab_type": "text"
      },
      "source": [
        "<a href=\"https://colab.research.google.com/github/Luiz-Adami/aula_html5_css3/blob/main/C%C3%B3pia_de_Curso_de_Python_para_iniciantes.ipynb\" target=\"_parent\"><img src=\"https://colab.research.google.com/assets/colab-badge.svg\" alt=\"Open In Colab\"/></a>"
      ]
    },
    {
      "cell_type": "markdown",
      "metadata": {
        "id": "XsT4YsIv_pgs"
      },
      "source": [
        ""
      ]
    },
    {
      "cell_type": "markdown",
      "metadata": {
        "id": "8PenQ4CwGIUw"
      },
      "source": [
        "###Olá Mundo\n",
        "Nosso primeiro comando em python"
      ]
    },
    {
      "cell_type": "code",
      "metadata": {
        "colab": {
          "base_uri": "https://localhost:8080/"
        },
        "id": "xcisA7iqGTA5",
        "outputId": "1b5c7034-05d7-4c31-90a6-6cbf9119bbdb"
      },
      "source": [
        "print(\"Olá Mundo\")"
      ],
      "execution_count": null,
      "outputs": [
        {
          "output_type": "stream",
          "name": "stdout",
          "text": [
            "Olá Mundo\n"
          ]
        }
      ]
    },
    {
      "cell_type": "markdown",
      "metadata": {
        "id": "_v9km34FICya"
      },
      "source": [
        "###Strings\n",
        "Concatenação com o operador +"
      ]
    },
    {
      "cell_type": "code",
      "metadata": {
        "colab": {
          "base_uri": "https://localhost:8080/"
        },
        "id": "Em7iOdnAIm01",
        "outputId": "5bf9aa11-22b4-430e-f9c3-c3f56b1b395b"
      },
      "source": [
        "print(\"Curso\" + \" de Python\")"
      ],
      "execution_count": null,
      "outputs": [
        {
          "output_type": "stream",
          "name": "stdout",
          "text": [
            "Curso de Python\n"
          ]
        }
      ]
    },
    {
      "cell_type": "markdown",
      "metadata": {
        "id": "yf8D_tnXJk5O"
      },
      "source": [
        "Substituindo valores com format ( )"
      ]
    },
    {
      "cell_type": "code",
      "metadata": {
        "colab": {
          "base_uri": "https://localhost:8080/"
        },
        "id": "W0gEGgjjJt6p",
        "outputId": "6b7027e2-9cee-47f8-86c6-d879aca87b33"
      },
      "source": [
        "print(\"Aula {} do curso de {}\" .format(1, \"Python\"))\n"
      ],
      "execution_count": null,
      "outputs": [
        {
          "output_type": "stream",
          "name": "stdout",
          "text": [
            "Aula 1 do curso de Python\n"
          ]
        }
      ]
    },
    {
      "cell_type": "markdown",
      "metadata": {
        "id": "5_el2q2VKq17"
      },
      "source": [
        "Transformando para minúsculas com  lower( ) "
      ]
    },
    {
      "cell_type": "code",
      "metadata": {
        "colab": {
          "base_uri": "https://localhost:8080/"
        },
        "id": "kHfmjR9yMaeE",
        "outputId": "4fcf6044-4c5d-4aaa-b3d9-87054049053e"
      },
      "source": [
        "print(\"Curso de Python para Iniciantes\" .lower())"
      ],
      "execution_count": null,
      "outputs": [
        {
          "output_type": "stream",
          "name": "stdout",
          "text": [
            "curso de python para iniciantes\n"
          ]
        }
      ]
    },
    {
      "cell_type": "markdown",
      "metadata": {
        "id": "1kqn4I9TMzK2"
      },
      "source": [
        "Transformando para maiúsculas com upper"
      ]
    },
    {
      "cell_type": "code",
      "metadata": {
        "colab": {
          "base_uri": "https://localhost:8080/"
        },
        "id": "yiFpobeUNBCZ",
        "outputId": "351d0519-b187-4341-8330-e07d7858c599"
      },
      "source": [
        "print(\"Curso de Python para Iniciantes\" .upper())"
      ],
      "execution_count": null,
      "outputs": [
        {
          "output_type": "stream",
          "name": "stdout",
          "text": [
            "CURSO DE PYTHON PARA INICIANTES\n"
          ]
        }
      ]
    },
    {
      "cell_type": "markdown",
      "metadata": {
        "id": "OerXR_tZNl_w"
      },
      "source": [
        "Removendo espaços em branco com  strip() "
      ]
    },
    {
      "cell_type": "code",
      "metadata": {
        "colab": {
          "base_uri": "https://localhost:8080/"
        },
        "id": "2_8LLTbHPAy3",
        "outputId": "3eed4bf4-8b3d-42ad-bc12-570b8d88e452"
      },
      "source": [
        "print(\"   Curso de Python para Iniciantes   \" .strip())"
      ],
      "execution_count": null,
      "outputs": [
        {
          "output_type": "stream",
          "name": "stdout",
          "text": [
            "Curso de Python para Iniciantes\n"
          ]
        }
      ]
    },
    {
      "cell_type": "markdown",
      "metadata": {
        "id": "Og6qUWA-PfTO"
      },
      "source": [
        "     O tipo str"
      ]
    },
    {
      "cell_type": "code",
      "metadata": {
        "colab": {
          "base_uri": "https://localhost:8080/"
        },
        "id": "aYch1qWYPj9d",
        "outputId": "8f29c6d0-f45d-43bd-ac3e-e3d534a98726"
      },
      "source": [
        "type(\"Curso de Python para Iniciantes\")"
      ],
      "execution_count": null,
      "outputs": [
        {
          "output_type": "execute_result",
          "data": {
            "text/plain": [
              "str"
            ]
          },
          "metadata": {},
          "execution_count": 12
        }
      ]
    },
    {
      "cell_type": "markdown",
      "metadata": {
        "id": "QDhtNxffP85Z"
      },
      "source": [
        "###Lidando com números e Operadores Matemáticos"
      ]
    },
    {
      "cell_type": "markdown",
      "metadata": {
        "id": "MbX3b0GWQKSp"
      },
      "source": [
        "Tipos Numéricos"
      ]
    },
    {
      "cell_type": "code",
      "metadata": {
        "colab": {
          "base_uri": "https://localhost:8080/"
        },
        "id": "4sTDqRfIQQmS",
        "outputId": "11f3ae73-4659-416a-c543-8b53c34d55f0"
      },
      "source": [
        "type(2)"
      ],
      "execution_count": null,
      "outputs": [
        {
          "output_type": "execute_result",
          "data": {
            "text/plain": [
              "int"
            ]
          },
          "metadata": {},
          "execution_count": 13
        }
      ]
    },
    {
      "cell_type": "code",
      "metadata": {
        "colab": {
          "base_uri": "https://localhost:8080/"
        },
        "id": "6m-2129JQk7W",
        "outputId": "a2aff2d2-4d3e-43e2-e874-1190b9b289d4"
      },
      "source": [
        "type(2.5)"
      ],
      "execution_count": null,
      "outputs": [
        {
          "output_type": "execute_result",
          "data": {
            "text/plain": [
              "float"
            ]
          },
          "metadata": {},
          "execution_count": 14
        }
      ]
    },
    {
      "cell_type": "markdown",
      "metadata": {
        "id": "91lkjPsJQzMg"
      },
      "source": [
        "    Soma"
      ]
    },
    {
      "cell_type": "code",
      "metadata": {
        "colab": {
          "base_uri": "https://localhost:8080/"
        },
        "id": "vsGBHJY2Q3Pl",
        "outputId": "1bfd0fee-cc60-48d6-930b-93e29d03e3da"
      },
      "source": [
        "2 + 2"
      ],
      "execution_count": null,
      "outputs": [
        {
          "output_type": "execute_result",
          "data": {
            "text/plain": [
              "4"
            ]
          },
          "metadata": {},
          "execution_count": 15
        }
      ]
    },
    {
      "cell_type": "markdown",
      "metadata": {
        "id": "-HWuM3WIQ-Cf"
      },
      "source": [
        "Subtração"
      ]
    },
    {
      "cell_type": "code",
      "metadata": {
        "colab": {
          "base_uri": "https://localhost:8080/"
        },
        "id": "_3X_6oleRAV2",
        "outputId": "aca8b76b-3c5f-4861-eac6-1ceb17dcb2a4"
      },
      "source": [
        "10 - 7"
      ],
      "execution_count": null,
      "outputs": [
        {
          "output_type": "execute_result",
          "data": {
            "text/plain": [
              "3"
            ]
          },
          "metadata": {},
          "execution_count": 16
        }
      ]
    },
    {
      "cell_type": "markdown",
      "metadata": {
        "id": "Gx4IfB7GRG1X"
      },
      "source": [
        "    Multiplicação"
      ]
    },
    {
      "cell_type": "code",
      "metadata": {
        "colab": {
          "base_uri": "https://localhost:8080/"
        },
        "id": "jFsiQKcARO2i",
        "outputId": "95ad8299-e827-4f06-c4b9-8a84a886061b"
      },
      "source": [
        "7 * 3"
      ],
      "execution_count": null,
      "outputs": [
        {
          "output_type": "execute_result",
          "data": {
            "text/plain": [
              "21"
            ]
          },
          "metadata": {},
          "execution_count": 17
        }
      ]
    },
    {
      "cell_type": "markdown",
      "metadata": {
        "id": "sCwMpoDKRWZy"
      },
      "source": [
        "  Exponenciação"
      ]
    },
    {
      "cell_type": "code",
      "metadata": {
        "colab": {
          "base_uri": "https://localhost:8080/"
        },
        "id": "XnNcE7roRfuo",
        "outputId": "02fb15c6-eb93-4548-ef26-0322e1ab211d"
      },
      "source": [
        "5 ** 2"
      ],
      "execution_count": null,
      "outputs": [
        {
          "output_type": "execute_result",
          "data": {
            "text/plain": [
              "25"
            ]
          },
          "metadata": {},
          "execution_count": 18
        }
      ]
    },
    {
      "cell_type": "markdown",
      "metadata": {
        "id": "pmWwCisyRjWY"
      },
      "source": [
        "  Divisão"
      ]
    },
    {
      "cell_type": "code",
      "metadata": {
        "colab": {
          "base_uri": "https://localhost:8080/"
        },
        "id": "4Jt1c5BtRsEz",
        "outputId": "9577b6cd-7f07-48fb-bf0b-369e1392859d"
      },
      "source": [
        "5 / 2"
      ],
      "execution_count": null,
      "outputs": [
        {
          "output_type": "execute_result",
          "data": {
            "text/plain": [
              "2.5"
            ]
          },
          "metadata": {},
          "execution_count": 19
        }
      ]
    },
    {
      "cell_type": "code",
      "metadata": {
        "colab": {
          "base_uri": "https://localhost:8080/"
        },
        "id": "HHvQ9GufSAkD",
        "outputId": "bfa0abfb-9a2d-4d29-c720-69788efb0e17"
      },
      "source": [
        "type(5/2)"
      ],
      "execution_count": null,
      "outputs": [
        {
          "output_type": "execute_result",
          "data": {
            "text/plain": [
              "float"
            ]
          },
          "metadata": {},
          "execution_count": 20
        }
      ]
    },
    {
      "cell_type": "markdown",
      "metadata": {
        "id": "xXrbwkMPSXDu"
      },
      "source": [
        "  Divisão Inteira"
      ]
    },
    {
      "cell_type": "code",
      "metadata": {
        "colab": {
          "base_uri": "https://localhost:8080/"
        },
        "id": "584j2SpBSa40",
        "outputId": "c6ddb6dd-276d-4422-f4d3-07c5a83773d9"
      },
      "source": [
        "5 // 2"
      ],
      "execution_count": null,
      "outputs": [
        {
          "output_type": "execute_result",
          "data": {
            "text/plain": [
              "2"
            ]
          },
          "metadata": {},
          "execution_count": 21
        }
      ]
    },
    {
      "cell_type": "markdown",
      "metadata": {
        "id": "jr0h_2u3SfRv"
      },
      "source": [
        "  Resto da Divisão"
      ]
    },
    {
      "cell_type": "code",
      "metadata": {
        "colab": {
          "base_uri": "https://localhost:8080/"
        },
        "id": "-8N8wvbpSiHE",
        "outputId": "83901324-57d8-494a-d800-dd07475dfd1a"
      },
      "source": [
        "5 % 2"
      ],
      "execution_count": null,
      "outputs": [
        {
          "output_type": "execute_result",
          "data": {
            "text/plain": [
              "1"
            ]
          },
          "metadata": {},
          "execution_count": 22
        }
      ]
    },
    {
      "cell_type": "markdown",
      "metadata": {
        "id": "GTUGzPJvSzNY"
      },
      "source": [
        "  Expressões"
      ]
    },
    {
      "cell_type": "code",
      "metadata": {
        "colab": {
          "base_uri": "https://localhost:8080/"
        },
        "id": "Uj7BKfuYS1iI",
        "outputId": "6da2ec2d-0bba-4931-f071-0b9a14f43853"
      },
      "source": [
        "10 - 5 + 20 -4"
      ],
      "execution_count": null,
      "outputs": [
        {
          "output_type": "execute_result",
          "data": {
            "text/plain": [
              "21"
            ]
          },
          "metadata": {},
          "execution_count": 23
        }
      ]
    },
    {
      "cell_type": "code",
      "metadata": {
        "colab": {
          "base_uri": "https://localhost:8080/"
        },
        "id": "XWL2F7lTTB3b",
        "outputId": "4895418b-057e-490d-b6e6-fdce0c2c88f4"
      },
      "source": [
        "((2+3)*(4-2)) ** 2"
      ],
      "execution_count": null,
      "outputs": [
        {
          "output_type": "execute_result",
          "data": {
            "text/plain": [
              "100"
            ]
          },
          "metadata": {},
          "execution_count": 24
        }
      ]
    },
    {
      "cell_type": "markdown",
      "metadata": {
        "id": "MtrOhupS5GEb"
      },
      "source": [
        "###Variáveis\n",
        "      Variáveis de texto"
      ]
    },
    {
      "cell_type": "code",
      "metadata": {
        "colab": {
          "base_uri": "https://localhost:8080/",
          "height": 35
        },
        "id": "SeHDXhpe9oQB",
        "outputId": "027e3bee-19ca-40b4-971c-bb68b9affc0d"
      },
      "source": [
        "texto = \"Curso de Python para Iniciantes\"\n",
        "texto"
      ],
      "execution_count": null,
      "outputs": [
        {
          "output_type": "execute_result",
          "data": {
            "application/vnd.google.colaboratory.intrinsic+json": {
              "type": "string"
            },
            "text/plain": [
              "'Curso de Python para Iniciantes'"
            ]
          },
          "metadata": {},
          "execution_count": 16
        }
      ]
    },
    {
      "cell_type": "code",
      "metadata": {
        "colab": {
          "base_uri": "https://localhost:8080/",
          "height": 35
        },
        "id": "_VoWfNx09tEp",
        "outputId": "60ca9f89-7bbf-4830-aecd-7096b0f31e47"
      },
      "source": [
        "texto = texto + \" - Aula 02\"\n",
        "texto"
      ],
      "execution_count": null,
      "outputs": [
        {
          "output_type": "execute_result",
          "data": {
            "application/vnd.google.colaboratory.intrinsic+json": {
              "type": "string"
            },
            "text/plain": [
              "'Curso de Python para Iniciantes - Aula 02'"
            ]
          },
          "metadata": {},
          "execution_count": 17
        }
      ]
    },
    {
      "cell_type": "markdown",
      "metadata": {
        "id": "q4wTBHwZ-FoA"
      },
      "source": [
        "    Variáveis numéricas"
      ]
    },
    {
      "cell_type": "code",
      "metadata": {
        "colab": {
          "base_uri": "https://localhost:8080/"
        },
        "id": "nx-ctxAh-X6g",
        "outputId": "c679399e-fee4-4f98-bd02-c60353f262ca"
      },
      "source": [
        "soma = 0\n",
        "soma"
      ],
      "execution_count": null,
      "outputs": [
        {
          "output_type": "execute_result",
          "data": {
            "text/plain": [
              "0"
            ]
          },
          "metadata": {},
          "execution_count": 18
        }
      ]
    },
    {
      "cell_type": "markdown",
      "metadata": {
        "id": "KPPcJgzbB5BZ"
      },
      "source": [
        "      Incrementando / Decrementando"
      ]
    },
    {
      "cell_type": "code",
      "metadata": {
        "colab": {
          "base_uri": "https://localhost:8080/"
        },
        "id": "32xv2ji7CHNL",
        "outputId": "dc01fe28-897a-4e35-835b-49b856cd7040"
      },
      "source": [
        "soma = soma + 1\n",
        "soma"
      ],
      "execution_count": null,
      "outputs": [
        {
          "output_type": "execute_result",
          "data": {
            "text/plain": [
              "1"
            ]
          },
          "metadata": {},
          "execution_count": 19
        }
      ]
    },
    {
      "cell_type": "code",
      "metadata": {
        "colab": {
          "base_uri": "https://localhost:8080/"
        },
        "id": "WJZGId9UCZm-",
        "outputId": "418595e6-a898-4e8d-977b-ce5cca20fa05"
      },
      "source": [
        "soma += 1\n",
        "soma"
      ],
      "execution_count": null,
      "outputs": [
        {
          "output_type": "execute_result",
          "data": {
            "text/plain": [
              "2"
            ]
          },
          "metadata": {},
          "execution_count": 20
        }
      ]
    },
    {
      "cell_type": "code",
      "metadata": {
        "colab": {
          "base_uri": "https://localhost:8080/"
        },
        "id": "0um7yAuSCqKB",
        "outputId": "b66cbeed-89c4-42df-f816-cbace64d864e"
      },
      "source": [
        "soma -= 1\n",
        "soma"
      ],
      "execution_count": null,
      "outputs": [
        {
          "output_type": "execute_result",
          "data": {
            "text/plain": [
              "1"
            ]
          },
          "metadata": {},
          "execution_count": 21
        }
      ]
    },
    {
      "cell_type": "code",
      "metadata": {
        "colab": {
          "base_uri": "https://localhost:8080/"
        },
        "id": "Epe6ExHnC175",
        "outputId": "472b62a7-aa0d-468e-8dc5-8d3b33a69a2e"
      },
      "source": [
        "soma = soma - 1\n",
        "soma"
      ],
      "execution_count": null,
      "outputs": [
        {
          "output_type": "execute_result",
          "data": {
            "text/plain": [
              "0"
            ]
          },
          "metadata": {},
          "execution_count": 22
        }
      ]
    },
    {
      "cell_type": "markdown",
      "metadata": {
        "id": "EnqwPG6TDIaT"
      },
      "source": [
        "###Lista\n",
        "   criando e selecionando elementos\n",
        "   "
      ]
    },
    {
      "cell_type": "code",
      "metadata": {
        "colab": {
          "base_uri": "https://localhost:8080/"
        },
        "id": "mzJG299qDfIp",
        "outputId": "f6df20a7-f28f-460f-8c53-8351c840ce57"
      },
      "source": [
        "frutas = ['maca', 'banana', 'laranja']\n",
        "frutas"
      ],
      "execution_count": null,
      "outputs": [
        {
          "output_type": "execute_result",
          "data": {
            "text/plain": [
              "['maca', 'banana', 'laranja']"
            ]
          },
          "metadata": {},
          "execution_count": 46
        }
      ]
    },
    {
      "cell_type": "code",
      "metadata": {
        "colab": {
          "base_uri": "https://localhost:8080/",
          "height": 35
        },
        "id": "4Fjr68WIEud5",
        "outputId": "4f24cd3b-51d3-4546-ad6a-2141b69cfaf5"
      },
      "source": [
        "frutas[2]"
      ],
      "execution_count": null,
      "outputs": [
        {
          "output_type": "execute_result",
          "data": {
            "application/vnd.google.colaboratory.intrinsic+json": {
              "type": "string"
            },
            "text/plain": [
              "'laranja'"
            ]
          },
          "metadata": {},
          "execution_count": 28
        }
      ]
    },
    {
      "cell_type": "code",
      "metadata": {
        "colab": {
          "base_uri": "https://localhost:8080/"
        },
        "id": "DtQeS0wlFCDp",
        "outputId": "93419988-2f25-462d-ab45-d0a9ae244557"
      },
      "source": [
        "numeros = [1,2,3,4,5]\n",
        "numeros"
      ],
      "execution_count": null,
      "outputs": [
        {
          "output_type": "execute_result",
          "data": {
            "text/plain": [
              "[1, 2, 3, 4, 5]"
            ]
          },
          "metadata": {},
          "execution_count": 29
        }
      ]
    },
    {
      "cell_type": "code",
      "metadata": {
        "colab": {
          "base_uri": "https://localhost:8080/"
        },
        "id": "-WzeORulGGmr",
        "outputId": "c6ae5848-b932-41df-b382-c90c120ab877"
      },
      "source": [
        "lista = ['a', 'b', 'c', frutas, numeros]\n",
        "lista"
      ],
      "execution_count": null,
      "outputs": [
        {
          "output_type": "execute_result",
          "data": {
            "text/plain": [
              "['a', 'b', 'c', ['maca', 'banana', 'laranja'], [1, 2, 3, 4, 5]]"
            ]
          },
          "metadata": {},
          "execution_count": 32
        }
      ]
    },
    {
      "cell_type": "code",
      "metadata": {
        "colab": {
          "base_uri": "https://localhost:8080/"
        },
        "id": "j_eBo4b7GOHx",
        "outputId": "9a3dc66f-5ffb-4712-f483-222f155e357e"
      },
      "source": [
        "lista[4]"
      ],
      "execution_count": null,
      "outputs": [
        {
          "output_type": "execute_result",
          "data": {
            "text/plain": [
              "[1, 2, 3, 4, 5]"
            ]
          },
          "metadata": {},
          "execution_count": 38
        }
      ]
    },
    {
      "cell_type": "code",
      "metadata": {
        "colab": {
          "base_uri": "https://localhost:8080/",
          "height": 35
        },
        "id": "p3vuGJGBGq6z",
        "outputId": "3f2f0ebc-a493-4b49-fdee-93a48482b281"
      },
      "source": [
        "lista[3][0]"
      ],
      "execution_count": null,
      "outputs": [
        {
          "output_type": "execute_result",
          "data": {
            "application/vnd.google.colaboratory.intrinsic+json": {
              "type": "string"
            },
            "text/plain": [
              "'maca'"
            ]
          },
          "metadata": {},
          "execution_count": 39
        }
      ]
    },
    {
      "cell_type": "code",
      "metadata": {
        "colab": {
          "base_uri": "https://localhost:8080/"
        },
        "id": "0db5C1PUHAOY",
        "outputId": "c45b7acc-c0d0-4c53-c40a-83a2aa0c04cc"
      },
      "source": [
        "lista[:2]"
      ],
      "execution_count": null,
      "outputs": [
        {
          "output_type": "execute_result",
          "data": {
            "text/plain": [
              "['a', 'b']"
            ]
          },
          "metadata": {},
          "execution_count": 40
        }
      ]
    },
    {
      "cell_type": "code",
      "metadata": {
        "colab": {
          "base_uri": "https://localhost:8080/"
        },
        "id": "GVxvWzoBHNHB",
        "outputId": "f277e32e-a877-46ce-d528-34ca218d3d1f"
      },
      "source": [
        "lista[2:]"
      ],
      "execution_count": null,
      "outputs": [
        {
          "output_type": "execute_result",
          "data": {
            "text/plain": [
              "['c', ['maca', 'banana', 'laranja'], [1, 2, 3, 4, 5]]"
            ]
          },
          "metadata": {},
          "execution_count": 41
        }
      ]
    },
    {
      "cell_type": "code",
      "metadata": {
        "colab": {
          "base_uri": "https://localhost:8080/"
        },
        "id": "yV8HgFrPHjqy",
        "outputId": "12416432-af26-4ea8-ee71-b07d4dc478cf"
      },
      "source": [
        "lista[2:4]"
      ],
      "execution_count": null,
      "outputs": [
        {
          "output_type": "execute_result",
          "data": {
            "text/plain": [
              "['c', ['maca', 'banana', 'laranja']]"
            ]
          },
          "metadata": {},
          "execution_count": 42
        }
      ]
    },
    {
      "cell_type": "markdown",
      "metadata": {
        "id": "R7p1mhx5H94b"
      },
      "source": [
        "   adicionando e removendo elementos"
      ]
    },
    {
      "cell_type": "code",
      "metadata": {
        "colab": {
          "base_uri": "https://localhost:8080/"
        },
        "id": "9OjKk8giIJsS",
        "outputId": "8b1cc7a4-4e18-437b-b68f-9b18c81bd7ce"
      },
      "source": [
        "frutas.append('goiaba')\n",
        "frutas"
      ],
      "execution_count": null,
      "outputs": [
        {
          "output_type": "execute_result",
          "data": {
            "text/plain": [
              "['maca', 'banana', 'laranja', 'goiaba']"
            ]
          },
          "metadata": {},
          "execution_count": 43
        }
      ]
    },
    {
      "cell_type": "code",
      "metadata": {
        "colab": {
          "base_uri": "https://localhost:8080/"
        },
        "id": "kpYKWAbXIiSz",
        "outputId": "767f08e9-e135-4136-8fcf-a831481656e9"
      },
      "source": [
        "frutas.pop()\n",
        "frutas"
      ],
      "execution_count": null,
      "outputs": [
        {
          "output_type": "execute_result",
          "data": {
            "text/plain": [
              "['maca', 'banana', 'laranja']"
            ]
          },
          "metadata": {},
          "execution_count": 44
        }
      ]
    },
    {
      "cell_type": "code",
      "metadata": {
        "colab": {
          "base_uri": "https://localhost:8080/"
        },
        "id": "DIYlFr75I4NK",
        "outputId": "0acc81c8-3206-4ffd-e252-c9beea3e801e"
      },
      "source": [
        "frutas.pop(0)\n",
        "frutas"
      ],
      "execution_count": null,
      "outputs": [
        {
          "output_type": "execute_result",
          "data": {
            "text/plain": [
              "['banana', 'laranja']"
            ]
          },
          "metadata": {},
          "execution_count": 45
        }
      ]
    },
    {
      "cell_type": "markdown",
      "metadata": {
        "id": "6n5aw0iNJHUm"
      },
      "source": [
        "   Alterando Elementos"
      ]
    },
    {
      "cell_type": "code",
      "metadata": {
        "colab": {
          "base_uri": "https://localhost:8080/"
        },
        "id": "yxN3Rba2JQjN",
        "outputId": "f136ec74-579b-4ea3-c524-65a4520aa6fe"
      },
      "source": [
        "frutas[0] = 'pera'\n",
        "frutas"
      ],
      "execution_count": null,
      "outputs": [
        {
          "output_type": "execute_result",
          "data": {
            "text/plain": [
              "['pera', 'banana', 'laranja']"
            ]
          },
          "metadata": {},
          "execution_count": 48
        }
      ]
    },
    {
      "cell_type": "markdown",
      "metadata": {
        "id": "aGgM6Fk_J1ix"
      },
      "source": [
        "   Tuplas"
      ]
    },
    {
      "cell_type": "code",
      "metadata": {
        "colab": {
          "base_uri": "https://localhost:8080/"
        },
        "id": "b3TVzj-nKXaq",
        "outputId": "392158b3-e907-4eb7-c5df-4c9e13183374"
      },
      "source": [
        "marcas = 'gm', 'ford', 'fiat', 'vw'\n",
        "marcas"
      ],
      "execution_count": null,
      "outputs": [
        {
          "output_type": "execute_result",
          "data": {
            "text/plain": [
              "('gm', 'ford', 'fiat', 'vw')"
            ]
          },
          "metadata": {},
          "execution_count": 2
        }
      ]
    },
    {
      "cell_type": "code",
      "metadata": {
        "colab": {
          "base_uri": "https://localhost:8080/",
          "height": 35
        },
        "id": "0vUelLQTr1dG",
        "outputId": "81a10e9f-eb04-4dbc-dacd-e2dc21dfecdb"
      },
      "source": [
        "marcas[3]\n"
      ],
      "execution_count": null,
      "outputs": [
        {
          "output_type": "execute_result",
          "data": {
            "application/vnd.google.colaboratory.intrinsic+json": {
              "type": "string"
            },
            "text/plain": [
              "'vw'"
            ]
          },
          "metadata": {},
          "execution_count": 7
        }
      ]
    },
    {
      "cell_type": "markdown",
      "metadata": {
        "id": "BK7qMi9AsbdS"
      },
      "source": [
        "   A diferença principal entre listas e tuplas é que os elementos de tuplas não podem ser alterados."
      ]
    },
    {
      "cell_type": "code",
      "metadata": {
        "colab": {
          "base_uri": "https://localhost:8080/",
          "height": 163
        },
        "id": "159qZ1NfsxX7",
        "outputId": "ea57084d-4079-44f7-df4f-e8d9046fbd71"
      },
      "source": [
        "marcas[0] = 'ferrari'"
      ],
      "execution_count": null,
      "outputs": [
        {
          "output_type": "error",
          "ename": "TypeError",
          "evalue": "ignored",
          "traceback": [
            "\u001b[0;31m---------------------------------------------------------------------------\u001b[0m",
            "\u001b[0;31mTypeError\u001b[0m                                 Traceback (most recent call last)",
            "\u001b[0;32m<ipython-input-8-6e451b28c77b>\u001b[0m in \u001b[0;36m<module>\u001b[0;34m()\u001b[0m\n\u001b[0;32m----> 1\u001b[0;31m \u001b[0mmarcas\u001b[0m\u001b[0;34m[\u001b[0m\u001b[0;36m0\u001b[0m\u001b[0;34m]\u001b[0m \u001b[0;34m=\u001b[0m \u001b[0;34m'ferrari'\u001b[0m\u001b[0;34m\u001b[0m\u001b[0;34m\u001b[0m\u001b[0m\n\u001b[0m",
            "\u001b[0;31mTypeError\u001b[0m: 'tuple' object does not support item assignment"
          ]
        }
      ]
    },
    {
      "cell_type": "markdown",
      "metadata": {
        "id": "bZyxGGjrtU5h"
      },
      "source": [
        "###Dicionários"
      ]
    },
    {
      "cell_type": "code",
      "metadata": {
        "id": "d0okNxcOtcl_",
        "colab": {
          "base_uri": "https://localhost:8080/"
        },
        "outputId": "8ee2311d-dbb9-4527-def8-887999efad33"
      },
      "source": [
        "notas = {'portugues': 8, 'ingles': 7.4, 'matematica': 9}\n",
        "notas"
      ],
      "execution_count": null,
      "outputs": [
        {
          "output_type": "execute_result",
          "data": {
            "text/plain": [
              "{'ingles': 7.4, 'matematica': 9, 'portugues': 8}"
            ]
          },
          "metadata": {},
          "execution_count": 24
        }
      ]
    },
    {
      "cell_type": "code",
      "metadata": {
        "colab": {
          "base_uri": "https://localhost:8080/"
        },
        "id": "PYO8Xsv6xaV-",
        "outputId": "8bd9c69d-8b08-4e33-9e32-7d61a7c49769"
      },
      "source": [
        "pessoa = {'nome': 'Joao', 'idade': 25, 'profissao': 'pintor'}\n",
        "pessoa"
      ],
      "execution_count": null,
      "outputs": [
        {
          "output_type": "execute_result",
          "data": {
            "text/plain": [
              "{'idade': 25, 'nome': 'Joao', 'profissao': 'pintor'}"
            ]
          },
          "metadata": {},
          "execution_count": 12
        }
      ]
    },
    {
      "cell_type": "code",
      "metadata": {
        "colab": {
          "base_uri": "https://localhost:8080/"
        },
        "id": "apKPFXDSx9_m",
        "outputId": "af42924a-9275-4d8d-b185-f8a4260fb6ab"
      },
      "source": [
        "times = {1: 'Flamengo', 2: 'Sao Paulo', 3:'Gremio'}\n",
        "times"
      ],
      "execution_count": null,
      "outputs": [
        {
          "output_type": "execute_result",
          "data": {
            "text/plain": [
              "{1: 'Flamengo', 2: 'Sao Paulo', 3: 'Gremio'}"
            ]
          },
          "metadata": {},
          "execution_count": 13
        }
      ]
    },
    {
      "cell_type": "markdown",
      "metadata": {
        "id": "Y_V1PAReyruH"
      },
      "source": [
        "   Selecionando Elementos"
      ]
    },
    {
      "cell_type": "code",
      "metadata": {
        "colab": {
          "base_uri": "https://localhost:8080/"
        },
        "id": "tjJa3eT-yzCJ",
        "outputId": "d5b9e0b5-8df8-4c07-e531-2c06ab5dd691"
      },
      "source": [
        "notas['matematica']"
      ],
      "execution_count": null,
      "outputs": [
        {
          "output_type": "execute_result",
          "data": {
            "text/plain": [
              "10"
            ]
          },
          "metadata": {},
          "execution_count": 23
        }
      ]
    },
    {
      "cell_type": "code",
      "metadata": {
        "colab": {
          "base_uri": "https://localhost:8080/",
          "height": 35
        },
        "id": "zYfdnq1Gzd9z",
        "outputId": "19402ccf-dc03-48ea-aeb8-5bff9d3af99e"
      },
      "source": [
        "pessoa['nome']"
      ],
      "execution_count": null,
      "outputs": [
        {
          "output_type": "execute_result",
          "data": {
            "application/vnd.google.colaboratory.intrinsic+json": {
              "type": "string"
            },
            "text/plain": [
              "'Joao'"
            ]
          },
          "metadata": {},
          "execution_count": 16
        }
      ]
    },
    {
      "cell_type": "code",
      "metadata": {
        "colab": {
          "base_uri": "https://localhost:8080/",
          "height": 35
        },
        "id": "NEvf4s0WzlbH",
        "outputId": "db1b065f-2736-42e9-9be0-e348184105f3"
      },
      "source": [
        "times[2]"
      ],
      "execution_count": null,
      "outputs": [
        {
          "output_type": "execute_result",
          "data": {
            "application/vnd.google.colaboratory.intrinsic+json": {
              "type": "string"
            },
            "text/plain": [
              "'Sao Paulo'"
            ]
          },
          "metadata": {},
          "execution_count": 17
        }
      ]
    },
    {
      "cell_type": "markdown",
      "metadata": {
        "id": "h4KfOE24z3xP"
      },
      "source": [
        "   Alterando Elementos"
      ]
    },
    {
      "cell_type": "code",
      "metadata": {
        "colab": {
          "base_uri": "https://localhost:8080/"
        },
        "id": "_WeKMFCd0qJo",
        "outputId": "559508c9-0755-4c06-fdfe-a4042ac2be92"
      },
      "source": [
        "notas['matematica'] = 10\n",
        "notas"
      ],
      "execution_count": null,
      "outputs": [
        {
          "output_type": "execute_result",
          "data": {
            "text/plain": [
              "{'ingles': 7.4, 'matematica': 10, 'portugues': 8}"
            ]
          },
          "metadata": {},
          "execution_count": 25
        }
      ]
    },
    {
      "cell_type": "code",
      "metadata": {
        "colab": {
          "base_uri": "https://localhost:8080/"
        },
        "id": "w_QJi32100BZ",
        "outputId": "b8a827c8-214d-4f8e-d831-694ededa5e69"
      },
      "source": [
        "times[2] = 'Palmeiras'\n",
        "times"
      ],
      "execution_count": null,
      "outputs": [
        {
          "output_type": "execute_result",
          "data": {
            "text/plain": [
              "{1: 'Flamengo', 2: 'Palmeiras', 3: 'Gremio'}"
            ]
          },
          "metadata": {},
          "execution_count": 26
        }
      ]
    },
    {
      "cell_type": "markdown",
      "metadata": {
        "id": "blsK65aw1DtU"
      },
      "source": [
        "   Adicionando Elementos"
      ]
    },
    {
      "cell_type": "code",
      "metadata": {
        "colab": {
          "base_uri": "https://localhost:8080/"
        },
        "id": "WaQci4BM1H6e",
        "outputId": "18ad4a05-97ce-4481-bd6a-c55b9e6f5444"
      },
      "source": [
        "notas['geografia'] = 7.1\n",
        "notas"
      ],
      "execution_count": null,
      "outputs": [
        {
          "output_type": "execute_result",
          "data": {
            "text/plain": [
              "{'geografia': 7.1, 'ingles': 7.4, 'matematica': 10, 'portugues': 8}"
            ]
          },
          "metadata": {},
          "execution_count": 27
        }
      ]
    },
    {
      "cell_type": "code",
      "metadata": {
        "colab": {
          "base_uri": "https://localhost:8080/"
        },
        "id": "VALVJnrX1itE",
        "outputId": "ce2a5d99-4829-4459-f76d-d98b317f81c6"
      },
      "source": [
        "times[85] = 'Vasco'\n",
        "times"
      ],
      "execution_count": null,
      "outputs": [
        {
          "output_type": "execute_result",
          "data": {
            "text/plain": [
              "{1: 'Flamengo', 2: 'Palmeiras', 3: 'Gremio', 85: 'Vasco'}"
            ]
          },
          "metadata": {},
          "execution_count": 28
        }
      ]
    },
    {
      "cell_type": "markdown",
      "metadata": {
        "id": "tqCESEXg13OK"
      },
      "source": [
        "###IF / ELSE"
      ]
    },
    {
      "cell_type": "code",
      "metadata": {
        "id": "fvMngU9x18Yv"
      },
      "source": [
        "x = 1\n",
        "y = 5"
      ],
      "execution_count": null,
      "outputs": []
    },
    {
      "cell_type": "markdown",
      "metadata": {
        "id": "1-p2YOyK2saX"
      },
      "source": [
        "   Operadores Lógicos"
      ]
    },
    {
      "cell_type": "code",
      "metadata": {
        "colab": {
          "base_uri": "https://localhost:8080/"
        },
        "id": "J9LNGej823Gw",
        "outputId": "cc2f9ee1-5018-4471-bace-7c7521959779"
      },
      "source": [
        "x == 1"
      ],
      "execution_count": null,
      "outputs": [
        {
          "output_type": "execute_result",
          "data": {
            "text/plain": [
              "True"
            ]
          },
          "metadata": {},
          "execution_count": 30
        }
      ]
    },
    {
      "cell_type": "code",
      "metadata": {
        "colab": {
          "base_uri": "https://localhost:8080/"
        },
        "id": "iirQOMDm3FIY",
        "outputId": "cc9aea5d-9aee-4b2e-d932-cc71096f3859"
      },
      "source": [
        "x == 2"
      ],
      "execution_count": null,
      "outputs": [
        {
          "output_type": "execute_result",
          "data": {
            "text/plain": [
              "False"
            ]
          },
          "metadata": {},
          "execution_count": 31
        }
      ]
    },
    {
      "cell_type": "code",
      "metadata": {
        "colab": {
          "base_uri": "https://localhost:8080/"
        },
        "id": "JXSfm41a3Lqf",
        "outputId": "b37d4210-9e0e-4d68-dbfd-e805e9498c5a"
      },
      "source": [
        "x < 0"
      ],
      "execution_count": null,
      "outputs": [
        {
          "output_type": "execute_result",
          "data": {
            "text/plain": [
              "False"
            ]
          },
          "metadata": {},
          "execution_count": 32
        }
      ]
    },
    {
      "cell_type": "code",
      "metadata": {
        "colab": {
          "base_uri": "https://localhost:8080/"
        },
        "id": "ilRyQaSo3OrP",
        "outputId": "ad99d7f0-88d4-4ac5-901c-2c5c6db4abdd"
      },
      "source": [
        "x >= 0"
      ],
      "execution_count": null,
      "outputs": [
        {
          "output_type": "execute_result",
          "data": {
            "text/plain": [
              "True"
            ]
          },
          "metadata": {},
          "execution_count": 33
        }
      ]
    },
    {
      "cell_type": "code",
      "metadata": {
        "colab": {
          "base_uri": "https://localhost:8080/"
        },
        "id": "mqcwOG4B3exX",
        "outputId": "1765eb1c-295a-42c5-acd0-e02266931310"
      },
      "source": [
        "x != 0"
      ],
      "execution_count": null,
      "outputs": [
        {
          "output_type": "execute_result",
          "data": {
            "text/plain": [
              "True"
            ]
          },
          "metadata": {},
          "execution_count": 34
        }
      ]
    },
    {
      "cell_type": "code",
      "metadata": {
        "colab": {
          "base_uri": "https://localhost:8080/"
        },
        "id": "v-C3YZKH3pdg",
        "outputId": "bc69f7b1-491c-4568-d151-849e28bda2fa"
      },
      "source": [
        "(x > 0) and (y < 2)"
      ],
      "execution_count": null,
      "outputs": [
        {
          "output_type": "execute_result",
          "data": {
            "text/plain": [
              "False"
            ]
          },
          "metadata": {},
          "execution_count": 35
        }
      ]
    },
    {
      "cell_type": "code",
      "metadata": {
        "colab": {
          "base_uri": "https://localhost:8080/"
        },
        "id": "_zKXA2OQ35HP",
        "outputId": "212aaaec-078b-44f7-ea42-d233096f2201"
      },
      "source": [
        "(x > 0) or (y < 2)"
      ],
      "execution_count": null,
      "outputs": [
        {
          "output_type": "execute_result",
          "data": {
            "text/plain": [
              "True"
            ]
          },
          "metadata": {},
          "execution_count": 36
        }
      ]
    },
    {
      "cell_type": "markdown",
      "metadata": {
        "id": "1zVjejBg4Mws"
      },
      "source": [
        "   Identação Obrigatória"
      ]
    },
    {
      "cell_type": "code",
      "metadata": {
        "colab": {
          "base_uri": "https://localhost:8080/"
        },
        "id": "aIubX9Vq4Q48",
        "outputId": "ef750232-a082-4657-959f-026f10358827"
      },
      "source": [
        "x = 0\n",
        "if (x > 0):\n",
        "  print('x é maior que zero')\n",
        "else:\n",
        "  print('x é menor ou igual a zero')"
      ],
      "execution_count": null,
      "outputs": [
        {
          "output_type": "stream",
          "name": "stdout",
          "text": [
            "x é menor ou igual a zero\n"
          ]
        }
      ]
    },
    {
      "cell_type": "code",
      "metadata": {
        "colab": {
          "base_uri": "https://localhost:8080/",
          "height": 129
        },
        "id": "EOQ2kRsw51wg",
        "outputId": "4054b083-c147-469a-9115-f253d5f6ecb7"
      },
      "source": [
        "x = 0\n",
        "if (x > 0):\n",
        "  print('x é maior que zero')\n",
        " print('Oi') \n",
        "else:\n",
        "  print('x é menor ou igual a zero')"
      ],
      "execution_count": null,
      "outputs": [
        {
          "output_type": "error",
          "ename": "IndentationError",
          "evalue": "ignored",
          "traceback": [
            "\u001b[0;36m  File \u001b[0;32m\"<ipython-input-41-facb5135f9dc>\"\u001b[0;36m, line \u001b[0;32m4\u001b[0m\n\u001b[0;31m    print('Oi')\u001b[0m\n\u001b[0m                ^\u001b[0m\n\u001b[0;31mIndentationError\u001b[0m\u001b[0;31m:\u001b[0m unindent does not match any outer indentation level\n"
          ]
        }
      ]
    },
    {
      "cell_type": "code",
      "metadata": {
        "colab": {
          "base_uri": "https://localhost:8080/"
        },
        "id": "25AFOrht6AG3",
        "outputId": "45fc0f3f-f430-4d4e-f081-2ddf1e90a0d6"
      },
      "source": [
        "x = 0\n",
        "if (x > 0):\n",
        "  print('x é maior que zero')\n",
        "elif(x == 0):\n",
        "  print('x é zero')\n",
        "else:\n",
        "  print('x é menor')"
      ],
      "execution_count": null,
      "outputs": [
        {
          "output_type": "stream",
          "name": "stdout",
          "text": [
            "x é zero\n"
          ]
        }
      ]
    },
    {
      "cell_type": "markdown",
      "metadata": {
        "id": "xpFqUR8NN9aX"
      },
      "source": [
        "###FOR"
      ]
    },
    {
      "cell_type": "code",
      "metadata": {
        "colab": {
          "base_uri": "https://localhost:8080/"
        },
        "id": "3PPKGBV7OESe",
        "outputId": "fbcc28db-358f-4347-b8ab-8a1193efac76"
      },
      "source": [
        "contador = [0,1,2,3,4,5,6,7,8,9]\n",
        "contador"
      ],
      "execution_count": null,
      "outputs": [
        {
          "output_type": "execute_result",
          "data": {
            "text/plain": [
              "[0, 1, 2, 3, 4, 5, 6, 7, 8, 9]"
            ]
          },
          "metadata": {},
          "execution_count": 1
        }
      ]
    },
    {
      "cell_type": "code",
      "metadata": {
        "colab": {
          "base_uri": "https://localhost:8080/"
        },
        "id": "3Ll9FUeLOxnD",
        "outputId": "eb32abc6-d1de-43ab-f9d4-630553490af1"
      },
      "source": [
        "for valor in contador:\n",
        "  print(valor)"
      ],
      "execution_count": null,
      "outputs": [
        {
          "output_type": "stream",
          "name": "stdout",
          "text": [
            "0\n",
            "1\n",
            "2\n",
            "3\n",
            "4\n",
            "5\n",
            "6\n",
            "7\n",
            "8\n",
            "9\n"
          ]
        }
      ]
    },
    {
      "cell_type": "code",
      "metadata": {
        "id": "MIZVFD4dPaNW"
      },
      "source": [
        "range?"
      ],
      "execution_count": null,
      "outputs": []
    },
    {
      "cell_type": "code",
      "metadata": {
        "colab": {
          "base_uri": "https://localhost:8080/"
        },
        "id": "dvynSwrnQaOX",
        "outputId": "383bb10f-7fed-43b1-acce-42cb79900937"
      },
      "source": [
        "for valor in range(10):\n",
        "  print(valor)\n"
      ],
      "execution_count": null,
      "outputs": [
        {
          "output_type": "stream",
          "name": "stdout",
          "text": [
            "0\n",
            "1\n",
            "2\n",
            "3\n",
            "4\n",
            "5\n",
            "6\n",
            "7\n",
            "8\n",
            "9\n"
          ]
        }
      ]
    },
    {
      "cell_type": "code",
      "metadata": {
        "colab": {
          "base_uri": "https://localhost:8080/"
        },
        "id": "Qt7NRBwyQxx4",
        "outputId": "aefa38f6-869a-48cb-e6ac-9937bebee910"
      },
      "source": [
        "for i in range(4,18,2):\n",
        "  print(i)\n"
      ],
      "execution_count": null,
      "outputs": [
        {
          "output_type": "stream",
          "name": "stdout",
          "text": [
            "4\n",
            "6\n",
            "8\n",
            "10\n",
            "12\n",
            "14\n",
            "16\n"
          ]
        }
      ]
    },
    {
      "cell_type": "code",
      "metadata": {
        "colab": {
          "base_uri": "https://localhost:8080/"
        },
        "id": "PS3qPoyWRfbJ",
        "outputId": "7f18a03d-f48f-4600-f74f-c44ea831e835"
      },
      "source": [
        "cidades = ['São Paulo', 'Brasilia', 'Curitiba']\n",
        "cidades"
      ],
      "execution_count": null,
      "outputs": [
        {
          "output_type": "execute_result",
          "data": {
            "text/plain": [
              "['São Paulo', 'Brasilia', 'Curitiba']"
            ]
          },
          "metadata": {},
          "execution_count": 6
        }
      ]
    },
    {
      "cell_type": "code",
      "metadata": {
        "colab": {
          "base_uri": "https://localhost:8080/"
        },
        "id": "PVIMzjfgR3Te",
        "outputId": "c762c21f-4d71-4704-aa0a-1cbabce2c796"
      },
      "source": [
        "for cidade in cidades:\n",
        "  print('Já morei em ' + cidade)\n"
      ],
      "execution_count": null,
      "outputs": [
        {
          "output_type": "stream",
          "name": "stdout",
          "text": [
            "Já morei em São Paulo\n",
            "Já morei em Brasilia\n",
            "Já morei em Curitiba\n"
          ]
        }
      ]
    },
    {
      "cell_type": "code",
      "metadata": {
        "colab": {
          "base_uri": "https://localhost:8080/"
        },
        "id": "iskb5W9mSd9O",
        "outputId": "48c3ae19-9ef2-4a2f-8956-289a4a2c14f4"
      },
      "source": [
        "minha_lista = [1,2,3,'cachorro', 'gato', 'papagaio']\n",
        "minha_lista"
      ],
      "execution_count": null,
      "outputs": [
        {
          "output_type": "execute_result",
          "data": {
            "text/plain": [
              "[1, 2, 3, 'cachorro', 'gato', 'papagaio']"
            ]
          },
          "metadata": {},
          "execution_count": 9
        }
      ]
    },
    {
      "cell_type": "code",
      "metadata": {
        "colab": {
          "base_uri": "https://localhost:8080/"
        },
        "id": "-Ld6WbLlS6MV",
        "outputId": "acf40761-757f-4eb3-c7c8-563c1547c774"
      },
      "source": [
        "for cada_item in minha_lista:\n",
        "  print(cada_item)"
      ],
      "execution_count": null,
      "outputs": [
        {
          "output_type": "stream",
          "name": "stdout",
          "text": [
            "1\n",
            "2\n",
            "3\n",
            "cachorro\n",
            "gato\n",
            "papagaio\n"
          ]
        }
      ]
    },
    {
      "cell_type": "markdown",
      "metadata": {
        "id": "CDrEm-jFTW4q"
      },
      "source": [
        "###WHILE"
      ]
    },
    {
      "cell_type": "code",
      "metadata": {
        "colab": {
          "base_uri": "https://localhost:8080/"
        },
        "id": "7Ab_CQLBTdQt",
        "outputId": "16855f14-9224-4d3a-f54b-ae045b0bf33f"
      },
      "source": [
        "x = 0\n",
        "while x < 5:\n",
        "  print(x)\n",
        "  x = x + 1"
      ],
      "execution_count": null,
      "outputs": [
        {
          "output_type": "stream",
          "name": "stdout",
          "text": [
            "0\n",
            "1\n",
            "2\n",
            "3\n",
            "4\n"
          ]
        }
      ]
    },
    {
      "cell_type": "markdown",
      "metadata": {
        "id": "RlEEyb9yUCAq"
      },
      "source": [
        "###List Comprehensions"
      ]
    },
    {
      "cell_type": "code",
      "metadata": {
        "colab": {
          "base_uri": "https://localhost:8080/"
        },
        "id": "9iH3ucGxUNwr",
        "outputId": "6e005161-28ff-4a2a-eb2b-c2ed156397e3"
      },
      "source": [
        "quadrados = []\n",
        "for numero in range(10):\n",
        "  quadrados.append(numero**2)\n",
        "\n",
        "quadrados"
      ],
      "execution_count": null,
      "outputs": [
        {
          "output_type": "execute_result",
          "data": {
            "text/plain": [
              "[0, 1, 4, 9, 16, 25, 36, 49, 64, 81]"
            ]
          },
          "metadata": {},
          "execution_count": 17
        }
      ]
    },
    {
      "cell_type": "markdown",
      "metadata": {
        "id": "NkL_5oerVwAe"
      },
      "source": [
        "   Uma maneira mais concisa de criar listas"
      ]
    },
    {
      "cell_type": "code",
      "metadata": {
        "colab": {
          "base_uri": "https://localhost:8080/"
        },
        "id": "Uut2PZpdV3ut",
        "outputId": "dbec1be0-cec4-4504-d616-9418c67aeb12"
      },
      "source": [
        "quad = [numero**2 for numero in range(10)]\n",
        "quad"
      ],
      "execution_count": null,
      "outputs": [
        {
          "output_type": "execute_result",
          "data": {
            "text/plain": [
              "[0, 1, 4, 9, 16, 25, 36, 49, 64, 81]"
            ]
          },
          "metadata": {},
          "execution_count": 18
        }
      ]
    },
    {
      "cell_type": "markdown",
      "metadata": {
        "id": "YvunBU2wW1xW"
      },
      "source": [
        "###Funções\n",
        "   "
      ]
    },
    {
      "cell_type": "markdown",
      "metadata": {
        "id": "uwEvhfXCXCWo"
      },
      "source": [
        "   Função que não retorna valor"
      ]
    },
    {
      "cell_type": "code",
      "metadata": {
        "id": "K_FSOXgiXIub"
      },
      "source": [
        "def exibir_mensagem(parametro):\n",
        "  print('Mensagem: ' +parametro)"
      ],
      "execution_count": null,
      "outputs": []
    },
    {
      "cell_type": "code",
      "metadata": {
        "colab": {
          "base_uri": "https://localhost:8080/"
        },
        "id": "xK9wa5miXvru",
        "outputId": "0dfabef2-7422-4b50-a1b4-4174547c84ff"
      },
      "source": [
        "exibir_mensagem(' Olá!!!')"
      ],
      "execution_count": null,
      "outputs": [
        {
          "output_type": "stream",
          "name": "stdout",
          "text": [
            "Mensagem:  Olá!!!\n"
          ]
        }
      ]
    },
    {
      "cell_type": "code",
      "metadata": {
        "id": "ge0doac2Y8lP"
      },
      "source": [
        "def exibir_dados(nome, idade):\n",
        "  print('Meu nome é {} ' .format(nome))\n",
        "  print('Tenho {} anos.' .format(idade))"
      ],
      "execution_count": null,
      "outputs": []
    },
    {
      "cell_type": "code",
      "metadata": {
        "colab": {
          "base_uri": "https://localhost:8080/"
        },
        "id": "6qEmQea-Z8-x",
        "outputId": "5e238c3f-d3e6-4164-b7a1-d55ae8340f59"
      },
      "source": [
        "exibir_dados('Maria', 70)"
      ],
      "execution_count": null,
      "outputs": [
        {
          "output_type": "stream",
          "name": "stdout",
          "text": [
            "Meu nome é Maria \n",
            "Tenho 70 anos.\n"
          ]
        }
      ]
    },
    {
      "cell_type": "code",
      "metadata": {
        "colab": {
          "base_uri": "https://localhost:8080/"
        },
        "id": "cmTFpcJ0bvae",
        "outputId": "1205c131-fb47-42e7-d21d-45c494f44406"
      },
      "source": [
        "exibir_dados('Paulo', 12)"
      ],
      "execution_count": null,
      "outputs": [
        {
          "output_type": "stream",
          "name": "stdout",
          "text": [
            "Meu nome é Paulo \n",
            "Tenho 12 anos.\n"
          ]
        }
      ]
    },
    {
      "cell_type": "markdown",
      "metadata": {
        "id": "SfMwNZKbb8GP"
      },
      "source": [
        "   Função que retorna valor"
      ]
    },
    {
      "cell_type": "code",
      "metadata": {
        "id": "n1Bw0CltcAMS"
      },
      "source": [
        "def elevar_ao_quadrado(numero):\n",
        "  return numero**2"
      ],
      "execution_count": null,
      "outputs": []
    },
    {
      "cell_type": "code",
      "metadata": {
        "colab": {
          "base_uri": "https://localhost:8080/"
        },
        "id": "poyZG2pmcgM6",
        "outputId": "a3b69367-ec35-4352-b534-5dcedba5930c"
      },
      "source": [
        "elevar_ao_quadrado(2)"
      ],
      "execution_count": null,
      "outputs": [
        {
          "output_type": "execute_result",
          "data": {
            "text/plain": [
              "4"
            ]
          },
          "metadata": {},
          "execution_count": 37
        }
      ]
    },
    {
      "cell_type": "code",
      "metadata": {
        "colab": {
          "base_uri": "https://localhost:8080/"
        },
        "id": "47xeLARkcxZa",
        "outputId": "b5e9aa75-6581-4f79-8b66-be3327f28a82"
      },
      "source": [
        "elevar_ao_quadrado(25)"
      ],
      "execution_count": null,
      "outputs": [
        {
          "output_type": "execute_result",
          "data": {
            "text/plain": [
              "625"
            ]
          },
          "metadata": {},
          "execution_count": 38
        }
      ]
    },
    {
      "cell_type": "markdown",
      "metadata": {
        "id": "X7lVmF5tdQdk"
      },
      "source": [
        "###Bibliotecas\n",
        "   Já instaladas no ambiente (Google Colab)"
      ]
    },
    {
      "cell_type": "code",
      "metadata": {
        "id": "DddJ-eKOdgYg"
      },
      "source": [
        "import numpy"
      ],
      "execution_count": null,
      "outputs": []
    },
    {
      "cell_type": "code",
      "metadata": {
        "colab": {
          "base_uri": "https://localhost:8080/"
        },
        "id": "j2X8qCNPdvyO",
        "outputId": "1a6af202-ebe9-4a75-ee21-316d526650b6"
      },
      "source": [
        "numpy.ones(5)"
      ],
      "execution_count": null,
      "outputs": [
        {
          "output_type": "execute_result",
          "data": {
            "text/plain": [
              "array([1., 1., 1., 1., 1.])"
            ]
          },
          "metadata": {},
          "execution_count": 41
        }
      ]
    },
    {
      "cell_type": "code",
      "metadata": {
        "id": "k-nE3Et8eUp4"
      },
      "source": [
        "import numpy as np"
      ],
      "execution_count": null,
      "outputs": []
    },
    {
      "cell_type": "code",
      "metadata": {
        "colab": {
          "base_uri": "https://localhost:8080/"
        },
        "id": "jH23v9q1egIJ",
        "outputId": "bc2e1488-5d68-40c0-83ed-584c07bb5a5b"
      },
      "source": [
        "np.ones(5)"
      ],
      "execution_count": null,
      "outputs": [
        {
          "output_type": "execute_result",
          "data": {
            "text/plain": [
              "array([1., 1., 1., 1., 1.])"
            ]
          },
          "metadata": {},
          "execution_count": 43
        }
      ]
    },
    {
      "cell_type": "code",
      "metadata": {
        "id": "w6Pb6XVveqF6"
      },
      "source": [
        "from numpy import ones"
      ],
      "execution_count": null,
      "outputs": []
    },
    {
      "cell_type": "code",
      "metadata": {
        "colab": {
          "base_uri": "https://localhost:8080/"
        },
        "id": "Z8wCTzltezGz",
        "outputId": "4a3be31c-215e-4cac-fae4-5de263a46ead"
      },
      "source": [
        "ones(5)"
      ],
      "execution_count": null,
      "outputs": [
        {
          "output_type": "execute_result",
          "data": {
            "text/plain": [
              "array([1., 1., 1., 1., 1.])"
            ]
          },
          "metadata": {},
          "execution_count": 45
        }
      ]
    },
    {
      "cell_type": "markdown",
      "metadata": {
        "id": "RlYmOl5me7Xq"
      },
      "source": [
        "   Instalando Bibliotecas Externas"
      ]
    },
    {
      "cell_type": "code",
      "metadata": {
        "colab": {
          "base_uri": "https://localhost:8080/"
        },
        "id": "TwCG3cajgDo9",
        "outputId": "71efb218-0893-47d1-fae6-bdea6e96abe3"
      },
      "source": [
        "!pip install yfinance"
      ],
      "execution_count": null,
      "outputs": [
        {
          "output_type": "stream",
          "name": "stdout",
          "text": [
            "Requirement already satisfied: yfinance in /usr/local/lib/python3.7/dist-packages (0.1.63)\n",
            "Requirement already satisfied: numpy>=1.15 in /usr/local/lib/python3.7/dist-packages (from yfinance) (1.19.5)\n",
            "Requirement already satisfied: multitasking>=0.0.7 in /usr/local/lib/python3.7/dist-packages (from yfinance) (0.0.9)\n",
            "Requirement already satisfied: pandas>=0.24 in /usr/local/lib/python3.7/dist-packages (from yfinance) (1.1.5)\n",
            "Requirement already satisfied: lxml>=4.5.1 in /usr/local/lib/python3.7/dist-packages (from yfinance) (4.6.3)\n",
            "Requirement already satisfied: requests>=2.20 in /usr/local/lib/python3.7/dist-packages (from yfinance) (2.23.0)\n",
            "Requirement already satisfied: pytz>=2017.2 in /usr/local/lib/python3.7/dist-packages (from pandas>=0.24->yfinance) (2018.9)\n",
            "Requirement already satisfied: python-dateutil>=2.7.3 in /usr/local/lib/python3.7/dist-packages (from pandas>=0.24->yfinance) (2.8.2)\n",
            "Requirement already satisfied: six>=1.5 in /usr/local/lib/python3.7/dist-packages (from python-dateutil>=2.7.3->pandas>=0.24->yfinance) (1.15.0)\n",
            "Requirement already satisfied: certifi>=2017.4.17 in /usr/local/lib/python3.7/dist-packages (from requests>=2.20->yfinance) (2021.5.30)\n",
            "Requirement already satisfied: urllib3!=1.25.0,!=1.25.1,<1.26,>=1.21.1 in /usr/local/lib/python3.7/dist-packages (from requests>=2.20->yfinance) (1.24.3)\n",
            "Requirement already satisfied: idna<3,>=2.5 in /usr/local/lib/python3.7/dist-packages (from requests>=2.20->yfinance) (2.10)\n",
            "Requirement already satisfied: chardet<4,>=3.0.2 in /usr/local/lib/python3.7/dist-packages (from requests>=2.20->yfinance) (3.0.4)\n"
          ]
        }
      ]
    },
    {
      "cell_type": "code",
      "metadata": {
        "id": "0G4A-VfwgLUU"
      },
      "source": [
        "import yfinance as yf"
      ],
      "execution_count": null,
      "outputs": []
    },
    {
      "cell_type": "code",
      "metadata": {
        "colab": {
          "base_uri": "https://localhost:8080/",
          "height": 467
        },
        "id": "k3Mc-ZmQgTy9",
        "outputId": "de14e951-ada9-4abb-ef88-e3f9aa9eec38"
      },
      "source": [
        "yf.download('^BVSP')"
      ],
      "execution_count": null,
      "outputs": [
        {
          "output_type": "stream",
          "name": "stdout",
          "text": [
            "\r[*********************100%***********************]  1 of 1 completed\n"
          ]
        },
        {
          "output_type": "execute_result",
          "data": {
            "text/html": [
              "<div>\n",
              "<style scoped>\n",
              "    .dataframe tbody tr th:only-of-type {\n",
              "        vertical-align: middle;\n",
              "    }\n",
              "\n",
              "    .dataframe tbody tr th {\n",
              "        vertical-align: top;\n",
              "    }\n",
              "\n",
              "    .dataframe thead th {\n",
              "        text-align: right;\n",
              "    }\n",
              "</style>\n",
              "<table border=\"1\" class=\"dataframe\">\n",
              "  <thead>\n",
              "    <tr style=\"text-align: right;\">\n",
              "      <th></th>\n",
              "      <th>Open</th>\n",
              "      <th>High</th>\n",
              "      <th>Low</th>\n",
              "      <th>Close</th>\n",
              "      <th>Adj Close</th>\n",
              "      <th>Volume</th>\n",
              "    </tr>\n",
              "    <tr>\n",
              "      <th>Date</th>\n",
              "      <th></th>\n",
              "      <th></th>\n",
              "      <th></th>\n",
              "      <th></th>\n",
              "      <th></th>\n",
              "      <th></th>\n",
              "    </tr>\n",
              "  </thead>\n",
              "  <tbody>\n",
              "    <tr>\n",
              "      <th>1993-04-27</th>\n",
              "      <td>24.799999</td>\n",
              "      <td>25.400000</td>\n",
              "      <td>24.500000</td>\n",
              "      <td>24.500000</td>\n",
              "      <td>24.500000</td>\n",
              "      <td>0</td>\n",
              "    </tr>\n",
              "    <tr>\n",
              "      <th>1993-04-28</th>\n",
              "      <td>24.500000</td>\n",
              "      <td>24.600000</td>\n",
              "      <td>23.700001</td>\n",
              "      <td>24.299999</td>\n",
              "      <td>24.299999</td>\n",
              "      <td>0</td>\n",
              "    </tr>\n",
              "    <tr>\n",
              "      <th>1993-04-29</th>\n",
              "      <td>24.299999</td>\n",
              "      <td>24.799999</td>\n",
              "      <td>23.700001</td>\n",
              "      <td>23.700001</td>\n",
              "      <td>23.700001</td>\n",
              "      <td>0</td>\n",
              "    </tr>\n",
              "    <tr>\n",
              "      <th>1993-04-30</th>\n",
              "      <td>23.700001</td>\n",
              "      <td>24.200001</td>\n",
              "      <td>23.700001</td>\n",
              "      <td>24.100000</td>\n",
              "      <td>24.100000</td>\n",
              "      <td>0</td>\n",
              "    </tr>\n",
              "    <tr>\n",
              "      <th>1993-05-03</th>\n",
              "      <td>24.100000</td>\n",
              "      <td>24.400000</td>\n",
              "      <td>23.799999</td>\n",
              "      <td>24.100000</td>\n",
              "      <td>24.100000</td>\n",
              "      <td>0</td>\n",
              "    </tr>\n",
              "    <tr>\n",
              "      <th>...</th>\n",
              "      <td>...</td>\n",
              "      <td>...</td>\n",
              "      <td>...</td>\n",
              "      <td>...</td>\n",
              "      <td>...</td>\n",
              "      <td>...</td>\n",
              "    </tr>\n",
              "    <tr>\n",
              "      <th>2021-10-05</th>\n",
              "      <td>110397.000000</td>\n",
              "      <td>111691.000000</td>\n",
              "      <td>110087.000000</td>\n",
              "      <td>110458.000000</td>\n",
              "      <td>110458.000000</td>\n",
              "      <td>10379000</td>\n",
              "    </tr>\n",
              "    <tr>\n",
              "      <th>2021-10-06</th>\n",
              "      <td>110454.000000</td>\n",
              "      <td>110614.000000</td>\n",
              "      <td>108180.000000</td>\n",
              "      <td>110560.000000</td>\n",
              "      <td>110560.000000</td>\n",
              "      <td>13279200</td>\n",
              "    </tr>\n",
              "    <tr>\n",
              "      <th>2021-10-07</th>\n",
              "      <td>110563.000000</td>\n",
              "      <td>111522.000000</td>\n",
              "      <td>110563.000000</td>\n",
              "      <td>110585.000000</td>\n",
              "      <td>110585.000000</td>\n",
              "      <td>10646000</td>\n",
              "    </tr>\n",
              "    <tr>\n",
              "      <th>2021-10-08</th>\n",
              "      <td>110586.000000</td>\n",
              "      <td>114172.000000</td>\n",
              "      <td>110586.000000</td>\n",
              "      <td>112833.000000</td>\n",
              "      <td>112833.000000</td>\n",
              "      <td>12871400</td>\n",
              "    </tr>\n",
              "    <tr>\n",
              "      <th>2021-10-11</th>\n",
              "      <td>112834.000000</td>\n",
              "      <td>113982.000000</td>\n",
              "      <td>112052.000000</td>\n",
              "      <td>112180.000000</td>\n",
              "      <td>112180.000000</td>\n",
              "      <td>10283700</td>\n",
              "    </tr>\n",
              "  </tbody>\n",
              "</table>\n",
              "<p>7028 rows × 6 columns</p>\n",
              "</div>"
            ],
            "text/plain": [
              "                     Open           High  ...      Adj Close    Volume\n",
              "Date                                      ...                         \n",
              "1993-04-27      24.799999      25.400000  ...      24.500000         0\n",
              "1993-04-28      24.500000      24.600000  ...      24.299999         0\n",
              "1993-04-29      24.299999      24.799999  ...      23.700001         0\n",
              "1993-04-30      23.700001      24.200001  ...      24.100000         0\n",
              "1993-05-03      24.100000      24.400000  ...      24.100000         0\n",
              "...                   ...            ...  ...            ...       ...\n",
              "2021-10-05  110397.000000  111691.000000  ...  110458.000000  10379000\n",
              "2021-10-06  110454.000000  110614.000000  ...  110560.000000  13279200\n",
              "2021-10-07  110563.000000  111522.000000  ...  110585.000000  10646000\n",
              "2021-10-08  110586.000000  114172.000000  ...  112833.000000  12871400\n",
              "2021-10-11  112834.000000  113982.000000  ...  112180.000000  10283700\n",
              "\n",
              "[7028 rows x 6 columns]"
            ]
          },
          "metadata": {},
          "execution_count": 51
        }
      ]
    }
  ]
}